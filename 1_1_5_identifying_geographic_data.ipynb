{
 "cells": [
  {
   "cell_type": "markdown",
   "metadata": {
    "hideCode": true,
    "hidePrompt": true
   },
   "source": [
    "# Identifying geographic data"
   ]
  },
  {
   "cell_type": "markdown",
   "metadata": {
    "hideCode": true,
    "hidePrompt": true
   },
   "source": [
    "## Learning outcomes\n",
    "\n",
    "Learners will be able to…\n",
    "-\tUnderstand what geographic data is\n",
    "-\tIdentify geographic data attributes\n",
    "-\tIdentify how geographic data is tracked and collected\n",
    "-\tUse geographic data to describe location, movement, climate, and culture"
   ]
  },
  {
   "cell_type": "markdown",
   "metadata": {
    "hideCode": true,
    "hidePrompt": true
   },
   "source": [
    "## Learner-facing goals\n",
    "\n",
    "Let's learn how to use geographic data to describe where something or someone is, where it is (or they are) going, and the climate and culture associated with a place."
   ]
  },
  {
   "cell_type": "markdown",
   "metadata": {
    "hideCode": true,
    "hidePrompt": true
   },
   "source": [
    "## Lesson plan"
   ]
  },
  {
   "cell_type": "markdown",
   "metadata": {
    "hideCode": true,
    "hidePrompt": true
   },
   "source": [
    "### Warmup activities\n",
    "\n",
    "- Read the quote and answer the questions that follow:\n",
    "    - Does it surprise you to know that your location is being tracked?\n",
    "    \n",
    "*At least 75 companies receive anonymous, precise location data from apps whose users enable location services to get local news and weather or other information, The Times found. Several of those businesses claim to track up to 200 million mobile devices in the United States — about half those in use last year. The database reviewed by The Times — a sample of information gathered in 2017 and held by one company — reveals people’s travels in startling detail, accurate to within a few yards and in some cases updated more than 14,000 times a day.*\n",
    "\n",
    "- List 3-5 things that location data could reveal about you."
   ]
  },
  {
   "cell_type": "markdown",
   "metadata": {
    "hideCode": true,
    "hidePrompt": true
   },
   "source": [
    "### Exercises\n",
    "\n",
    "**What geographic data can you find?** Learners view an image, dataset, or graph and find geographic data attributes and values.\n",
    "\n",
    "- Select the geographic variables in the dataset:"
   ]
  },
  {
   "cell_type": "code",
   "execution_count": 1,
   "metadata": {
    "scrolled": true
   },
   "outputs": [
    {
     "data": {
      "text/html": [
       "<div>\n",
       "<style scoped>\n",
       "    .dataframe tbody tr th:only-of-type {\n",
       "        vertical-align: middle;\n",
       "    }\n",
       "\n",
       "    .dataframe tbody tr th {\n",
       "        vertical-align: top;\n",
       "    }\n",
       "\n",
       "    .dataframe thead th {\n",
       "        text-align: right;\n",
       "    }\n",
       "</style>\n",
       "<table border=\"1\" class=\"dataframe\">\n",
       "  <thead>\n",
       "    <tr style=\"text-align: right;\">\n",
       "      <th></th>\n",
       "      <th>Year_Birth</th>\n",
       "      <th>Income</th>\n",
       "      <th>Kid_at_home</th>\n",
       "      <th>Teen_at_home</th>\n",
       "      <th>Sign_up_date</th>\n",
       "      <th>Web_purchases</th>\n",
       "      <th>Monthly_web_visits</th>\n",
       "      <th>Country</th>\n",
       "      <th>Satisfaction_rating</th>\n",
       "      <th>Lifestyle</th>\n",
       "    </tr>\n",
       "  </thead>\n",
       "  <tbody>\n",
       "    <tr>\n",
       "      <th>0</th>\n",
       "      <td>1970</td>\n",
       "      <td>$84,835.00</td>\n",
       "      <td>0</td>\n",
       "      <td>0</td>\n",
       "      <td>6/16/14</td>\n",
       "      <td>4</td>\n",
       "      <td>1</td>\n",
       "      <td>SP</td>\n",
       "      <td>8</td>\n",
       "      <td>Foodie</td>\n",
       "    </tr>\n",
       "    <tr>\n",
       "      <th>1</th>\n",
       "      <td>1961</td>\n",
       "      <td>$57,091.00</td>\n",
       "      <td>0</td>\n",
       "      <td>0</td>\n",
       "      <td>6/15/14</td>\n",
       "      <td>7</td>\n",
       "      <td>5</td>\n",
       "      <td>CA</td>\n",
       "      <td>10</td>\n",
       "      <td>Outdoor Enthusiast</td>\n",
       "    </tr>\n",
       "    <tr>\n",
       "      <th>2</th>\n",
       "      <td>1958</td>\n",
       "      <td>$67,267.00</td>\n",
       "      <td>0</td>\n",
       "      <td>1</td>\n",
       "      <td>5/13/14</td>\n",
       "      <td>3</td>\n",
       "      <td>2</td>\n",
       "      <td>US</td>\n",
       "      <td>5</td>\n",
       "      <td>Fisherman</td>\n",
       "    </tr>\n",
       "    <tr>\n",
       "      <th>3</th>\n",
       "      <td>1967</td>\n",
       "      <td>$32,474.00</td>\n",
       "      <td>1</td>\n",
       "      <td>1</td>\n",
       "      <td>5/11/14</td>\n",
       "      <td>1</td>\n",
       "      <td>7</td>\n",
       "      <td>AUS</td>\n",
       "      <td>2</td>\n",
       "      <td>Musician</td>\n",
       "    </tr>\n",
       "    <tr>\n",
       "      <th>4</th>\n",
       "      <td>1989</td>\n",
       "      <td>$21,474.00</td>\n",
       "      <td>1</td>\n",
       "      <td>0</td>\n",
       "      <td>4/8/14</td>\n",
       "      <td>3</td>\n",
       "      <td>7</td>\n",
       "      <td>SP</td>\n",
       "      <td>6</td>\n",
       "      <td>Gamer</td>\n",
       "    </tr>\n",
       "  </tbody>\n",
       "</table>\n",
       "</div>"
      ],
      "text/plain": [
       "   Year_Birth       Income  Kid_at_home  Teen_at_home Sign_up_date  \\\n",
       "0        1970  $84,835.00             0             0      6/16/14   \n",
       "1        1961  $57,091.00             0             0      6/15/14   \n",
       "2        1958  $67,267.00             0             1      5/13/14   \n",
       "3        1967  $32,474.00             1             1      5/11/14   \n",
       "4        1989  $21,474.00             1             0       4/8/14   \n",
       "\n",
       "   Web_purchases  Monthly_web_visits Country  Satisfaction_rating  \\\n",
       "0              4                   1      SP                    8   \n",
       "1              7                   5      CA                   10   \n",
       "2              3                   2      US                    5   \n",
       "3              1                   7     AUS                    2   \n",
       "4              3                   7      SP                    6   \n",
       "\n",
       "            Lifestyle  \n",
       "0              Foodie  \n",
       "1  Outdoor Enthusiast  \n",
       "2           Fisherman  \n",
       "3            Musician  \n",
       "4               Gamer  "
      ]
     },
     "execution_count": 1,
     "metadata": {},
     "output_type": "execute_result"
    }
   ],
   "source": [
    "import pandas as pd\n",
    "marketing_campaign = pd.read_csv(\"datasets/marketing_campaign_data.csv\")\n",
    "marketing_campaign_sml = marketing_campaign[[\"Year_Birth\", \" Income \", \"Kidhome\", \"Teenhome\", \"Dt_Customer\", \"NumWebPurchases\", \"NumWebVisitsMonth\", \"Country\"]]\n",
    "marketing_campaign_sml = marketing_campaign_sml.head()\n",
    "marketing_campaign_sml[\"SatisfactionRating\"] = [8, 10, 5, 2, 6]\n",
    "marketing_campaign_sml['Lifestyle'] = [\"Foodie\", \"Outdoor Enthusiast\", \"Fisherman\", \"Musician\", \"Gamer\"]\n",
    "marketing_campaign_sml.columns = [\"Year_Birth\", \"Income\", \"Kid_at_home\", \"Teen_at_home\", \"Sign_up_date\", \"Web_purchases\", \"Monthly_web_visits\",  \"Country\", \"Satisfaction_rating\", \"Lifestyle\"]\n",
    "marketing_campaign_sml"
   ]
  },
  {
   "cell_type": "markdown",
   "metadata": {},
   "source": [
    "- Select the geographic attributes that describe the image:"
   ]
  },
  {
   "cell_type": "markdown",
   "metadata": {},
   "source": [
    "**What would happen if things were different?** Learners view a dataset, graph, or image describe how changes would impact the geographic data values being produced or recorded.\n",
    "\n",
    "- Match the change with the impact to the geographic data in the table:\n",
    "\n",
    "Changes\n",
    "1. A customer moves\n",
    "2. A person visits the website while on vacation\n",
    "3. A person calls customer service to correct their year of birth\n",
    "\n",
    "Impacts\n",
    "1. This may impact the Country field if the move is outside the country they currently live in\n",
    "2. This does not impact the current table, but would likely impact location data recorded for the visit\n",
    "3. This would impact Year_Birth, but this is a temporal attribute, not a geographic attribute"
   ]
  },
  {
   "cell_type": "code",
   "execution_count": 2,
   "metadata": {
    "scrolled": true
   },
   "outputs": [
    {
     "data": {
      "text/html": [
       "<div>\n",
       "<style scoped>\n",
       "    .dataframe tbody tr th:only-of-type {\n",
       "        vertical-align: middle;\n",
       "    }\n",
       "\n",
       "    .dataframe tbody tr th {\n",
       "        vertical-align: top;\n",
       "    }\n",
       "\n",
       "    .dataframe thead th {\n",
       "        text-align: right;\n",
       "    }\n",
       "</style>\n",
       "<table border=\"1\" class=\"dataframe\">\n",
       "  <thead>\n",
       "    <tr style=\"text-align: right;\">\n",
       "      <th></th>\n",
       "      <th>Year_Birth</th>\n",
       "      <th>Income</th>\n",
       "      <th>Kid_at_home</th>\n",
       "      <th>Teen_at_home</th>\n",
       "      <th>Sign_up_date</th>\n",
       "      <th>Web_purchases</th>\n",
       "      <th>Monthly_web_visits</th>\n",
       "      <th>Country</th>\n",
       "      <th>Satisfaction_rating</th>\n",
       "      <th>Lifestyle</th>\n",
       "    </tr>\n",
       "  </thead>\n",
       "  <tbody>\n",
       "    <tr>\n",
       "      <th>0</th>\n",
       "      <td>1970</td>\n",
       "      <td>$84,835.00</td>\n",
       "      <td>0</td>\n",
       "      <td>0</td>\n",
       "      <td>6/16/14</td>\n",
       "      <td>4</td>\n",
       "      <td>1</td>\n",
       "      <td>SP</td>\n",
       "      <td>8</td>\n",
       "      <td>Foodie</td>\n",
       "    </tr>\n",
       "    <tr>\n",
       "      <th>1</th>\n",
       "      <td>1961</td>\n",
       "      <td>$57,091.00</td>\n",
       "      <td>0</td>\n",
       "      <td>0</td>\n",
       "      <td>6/15/14</td>\n",
       "      <td>7</td>\n",
       "      <td>5</td>\n",
       "      <td>CA</td>\n",
       "      <td>10</td>\n",
       "      <td>Outdoor Enthusiast</td>\n",
       "    </tr>\n",
       "    <tr>\n",
       "      <th>2</th>\n",
       "      <td>1958</td>\n",
       "      <td>$67,267.00</td>\n",
       "      <td>0</td>\n",
       "      <td>1</td>\n",
       "      <td>5/13/14</td>\n",
       "      <td>3</td>\n",
       "      <td>2</td>\n",
       "      <td>US</td>\n",
       "      <td>5</td>\n",
       "      <td>Fisherman</td>\n",
       "    </tr>\n",
       "    <tr>\n",
       "      <th>3</th>\n",
       "      <td>1967</td>\n",
       "      <td>$32,474.00</td>\n",
       "      <td>1</td>\n",
       "      <td>1</td>\n",
       "      <td>5/11/14</td>\n",
       "      <td>1</td>\n",
       "      <td>7</td>\n",
       "      <td>AUS</td>\n",
       "      <td>2</td>\n",
       "      <td>Musician</td>\n",
       "    </tr>\n",
       "    <tr>\n",
       "      <th>4</th>\n",
       "      <td>1989</td>\n",
       "      <td>$21,474.00</td>\n",
       "      <td>1</td>\n",
       "      <td>0</td>\n",
       "      <td>4/8/14</td>\n",
       "      <td>3</td>\n",
       "      <td>7</td>\n",
       "      <td>SP</td>\n",
       "      <td>6</td>\n",
       "      <td>Gamer</td>\n",
       "    </tr>\n",
       "  </tbody>\n",
       "</table>\n",
       "</div>"
      ],
      "text/plain": [
       "   Year_Birth       Income  Kid_at_home  Teen_at_home Sign_up_date  \\\n",
       "0        1970  $84,835.00             0             0      6/16/14   \n",
       "1        1961  $57,091.00             0             0      6/15/14   \n",
       "2        1958  $67,267.00             0             1      5/13/14   \n",
       "3        1967  $32,474.00             1             1      5/11/14   \n",
       "4        1989  $21,474.00             1             0       4/8/14   \n",
       "\n",
       "   Web_purchases  Monthly_web_visits Country  Satisfaction_rating  \\\n",
       "0              4                   1      SP                    8   \n",
       "1              7                   5      CA                   10   \n",
       "2              3                   2      US                    5   \n",
       "3              1                   7     AUS                    2   \n",
       "4              3                   7      SP                    6   \n",
       "\n",
       "            Lifestyle  \n",
       "0              Foodie  \n",
       "1  Outdoor Enthusiast  \n",
       "2           Fisherman  \n",
       "3            Musician  \n",
       "4               Gamer  "
      ]
     },
     "execution_count": 2,
     "metadata": {},
     "output_type": "execute_result"
    }
   ],
   "source": [
    "import pandas as pd\n",
    "marketing_campaign = pd.read_csv(\"datasets/marketing_campaign_data.csv\")\n",
    "marketing_campaign_sml = marketing_campaign[[\"Year_Birth\", \" Income \", \"Kidhome\", \"Teenhome\", \"Dt_Customer\", \"NumWebPurchases\", \"NumWebVisitsMonth\", \"Country\"]]\n",
    "marketing_campaign_sml = marketing_campaign_sml.head()\n",
    "marketing_campaign_sml[\"SatisfactionRating\"] = [8, 10, 5, 2, 6]\n",
    "marketing_campaign_sml['Lifestyle'] = [\"Foodie\", \"Outdoor Enthusiast\", \"Fisherman\", \"Musician\", \"Gamer\"]\n",
    "marketing_campaign_sml.columns = [\"Year_Birth\", \"Income\", \"Kid_at_home\", \"Teen_at_home\", \"Sign_up_date\", \"Web_purchases\", \"Monthly_web_visits\",  \"Country\", \"Satisfaction_rating\", \"Lifestyle\"]\n",
    "marketing_campaign_sml"
   ]
  },
  {
   "cell_type": "markdown",
   "metadata": {},
   "source": [
    "**What geographic data will be created?** Learners are provided with a data collection mechanism or scenario and describe the geographic data that will be generated.\n",
    "\n",
    "- Match the data collection device with the geographic data being tracked:\n",
    "\n",
    "1. Sensor on a coffee maker\n",
    "2. Traffic camera\n",
    "3. Customer Relationship Management(CRM) system\n",
    "4. Fitness wristwatch\n",
    "5. Political poll\n",
    "6. Ecommerce website"
   ]
  },
  {
   "cell_type": "markdown",
   "metadata": {
    "hideCode": true,
    "hidePrompt": true
   },
   "source": [
    "### Wrap-up\n",
    "\n",
    "**3-2-1 Prompt**\n",
    "- What are 3 things you learned about geographic data?\n",
    "- What are 2 things you wonder about geographic data?\n",
    "- What is 1 takeaway you could apply to your work, community, or personal life?\n",
    "\n",
    "**Going further**\n",
    "\n",
    "- Create a table that consists of the geoographic data that describes where you were and where you went yesterday"
   ]
  },
  {
   "cell_type": "markdown",
   "metadata": {
    "hideCode": true,
    "hidePrompt": true
   },
   "source": [
    "## Concepts\n",
    "\n",
    "- Geographic data describes "
   ]
  },
  {
   "cell_type": "markdown",
   "metadata": {
    "hideCode": true,
    "hidePrompt": true
   },
   "source": [
    "## Keywords"
   ]
  }
 ],
 "metadata": {
  "hide_code_all_hidden": true,
  "kernelspec": {
   "display_name": "Python 3 (ipykernel)",
   "language": "python",
   "name": "python3"
  },
  "language_info": {
   "codemirror_mode": {
    "name": "ipython",
    "version": 3
   },
   "file_extension": ".py",
   "mimetype": "text/x-python",
   "name": "python",
   "nbconvert_exporter": "python",
   "pygments_lexer": "ipython3",
   "version": "3.10.1"
  }
 },
 "nbformat": 4,
 "nbformat_minor": 2
}
