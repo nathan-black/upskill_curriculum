{
 "cells": [
  {
   "cell_type": "markdown",
   "metadata": {},
   "source": [
    "# Identifying demographic data\n",
    "\n",
    "Demographic data describes who someone is and doesn't change as often as other types of data. When using demographic data to describe a person, caution should be taken to not overgeneralize demographics to other attributes that describe a person such as their behaviors, attitude, or opinions. Demographic data is recorded and tracked when using everyday applications. The value of demographic data is its ability to store insights about (mostly) immutable characteristics of a person"
   ]
  },
  {
   "cell_type": "markdown",
   "metadata": {},
   "source": [
    "## Learning outcomes\n",
    "Learners will be able to…\n",
    "-\tUnderstand what demographic data is\n",
    "-\tIdentify demographic data attributes\n",
    "-\tIdentify how demographic data is tracked and collected\n",
    "-\tUse demographic data to describe who someone is\n"
   ]
  },
  {
   "cell_type": "markdown",
   "metadata": {},
   "source": [
    "## Learner-facing goals\n",
    "\n",
    "Let’s learn how demographic data is used to describe who a person is"
   ]
  },
  {
   "cell_type": "markdown",
   "metadata": {},
   "source": [
    "## Lesson plan"
   ]
  },
  {
   "cell_type": "markdown",
   "metadata": {},
   "source": [
    "### Warmup activities\n",
    "\n",
    "- List 5-10 things that define who you are\n",
    "- List 5-10 things that describe an organization or community you belong to\n",
    "- Think of a time you were asked to provide information about yourself (e.g., filling out a form or survey)?\n",
    "    - How did it make you feel?\n",
    "    - How was the information collected or recorded?"
   ]
  },
  {
   "cell_type": "markdown",
   "metadata": {},
   "source": [
    "### Exercises"
   ]
  },
  {
   "cell_type": "markdown",
   "metadata": {},
   "source": [
    "**What demographic data can you find?** Learners view an image, dataset, or graph and find demographic data attributes and values.\n",
    "\n",
    "- Select the demographic variables in the dataset:"
   ]
  },
  {
   "cell_type": "code",
   "execution_count": 1,
   "metadata": {
    "tags": [
     "remove-input"
    ]
   },
   "outputs": [
    {
     "data": {
      "text/html": [
       "<div>\n",
       "<style scoped>\n",
       "    .dataframe tbody tr th:only-of-type {\n",
       "        vertical-align: middle;\n",
       "    }\n",
       "\n",
       "    .dataframe tbody tr th {\n",
       "        vertical-align: top;\n",
       "    }\n",
       "\n",
       "    .dataframe thead th {\n",
       "        text-align: right;\n",
       "    }\n",
       "</style>\n",
       "<table border=\"1\" class=\"dataframe\">\n",
       "  <thead>\n",
       "    <tr style=\"text-align: right;\">\n",
       "      <th></th>\n",
       "      <th>Year_Birth</th>\n",
       "      <th>Income</th>\n",
       "      <th>Kid_at_home</th>\n",
       "      <th>Teen_at_home</th>\n",
       "      <th>Sign_up_date</th>\n",
       "      <th>Web_purchases</th>\n",
       "      <th>Monthly_web_visits</th>\n",
       "      <th>Country</th>\n",
       "      <th>Satisfaction_rating</th>\n",
       "      <th>Lifestyle</th>\n",
       "    </tr>\n",
       "  </thead>\n",
       "  <tbody>\n",
       "    <tr>\n",
       "      <th>0</th>\n",
       "      <td>1970</td>\n",
       "      <td>$84,835.00</td>\n",
       "      <td>0</td>\n",
       "      <td>0</td>\n",
       "      <td>6/16/14</td>\n",
       "      <td>4</td>\n",
       "      <td>1</td>\n",
       "      <td>SP</td>\n",
       "      <td>8</td>\n",
       "      <td>Foodie</td>\n",
       "    </tr>\n",
       "    <tr>\n",
       "      <th>1</th>\n",
       "      <td>1961</td>\n",
       "      <td>$57,091.00</td>\n",
       "      <td>0</td>\n",
       "      <td>0</td>\n",
       "      <td>6/15/14</td>\n",
       "      <td>7</td>\n",
       "      <td>5</td>\n",
       "      <td>CA</td>\n",
       "      <td>10</td>\n",
       "      <td>Outdoor Enthusiast</td>\n",
       "    </tr>\n",
       "    <tr>\n",
       "      <th>2</th>\n",
       "      <td>1958</td>\n",
       "      <td>$67,267.00</td>\n",
       "      <td>0</td>\n",
       "      <td>1</td>\n",
       "      <td>5/13/14</td>\n",
       "      <td>3</td>\n",
       "      <td>2</td>\n",
       "      <td>US</td>\n",
       "      <td>5</td>\n",
       "      <td>Fisherman</td>\n",
       "    </tr>\n",
       "    <tr>\n",
       "      <th>3</th>\n",
       "      <td>1967</td>\n",
       "      <td>$32,474.00</td>\n",
       "      <td>1</td>\n",
       "      <td>1</td>\n",
       "      <td>5/11/14</td>\n",
       "      <td>1</td>\n",
       "      <td>7</td>\n",
       "      <td>AUS</td>\n",
       "      <td>2</td>\n",
       "      <td>Musician</td>\n",
       "    </tr>\n",
       "    <tr>\n",
       "      <th>4</th>\n",
       "      <td>1989</td>\n",
       "      <td>$21,474.00</td>\n",
       "      <td>1</td>\n",
       "      <td>0</td>\n",
       "      <td>4/8/14</td>\n",
       "      <td>3</td>\n",
       "      <td>7</td>\n",
       "      <td>SP</td>\n",
       "      <td>6</td>\n",
       "      <td>Gamer</td>\n",
       "    </tr>\n",
       "  </tbody>\n",
       "</table>\n",
       "</div>"
      ],
      "text/plain": [
       "   Year_Birth       Income  Kid_at_home  Teen_at_home Sign_up_date  \\\n",
       "0        1970  $84,835.00             0             0      6/16/14   \n",
       "1        1961  $57,091.00             0             0      6/15/14   \n",
       "2        1958  $67,267.00             0             1      5/13/14   \n",
       "3        1967  $32,474.00             1             1      5/11/14   \n",
       "4        1989  $21,474.00             1             0       4/8/14   \n",
       "\n",
       "   Web_purchases  Monthly_web_visits Country  Satisfaction_rating  \\\n",
       "0              4                   1      SP                    8   \n",
       "1              7                   5      CA                   10   \n",
       "2              3                   2      US                    5   \n",
       "3              1                   7     AUS                    2   \n",
       "4              3                   7      SP                    6   \n",
       "\n",
       "            Lifestyle  \n",
       "0              Foodie  \n",
       "1  Outdoor Enthusiast  \n",
       "2           Fisherman  \n",
       "3            Musician  \n",
       "4               Gamer  "
      ]
     },
     "execution_count": 1,
     "metadata": {},
     "output_type": "execute_result"
    }
   ],
   "source": [
    "import pandas as pd\n",
    "marketing_campaign = pd.read_csv(\"datasets/marketing_campaign_data.csv\")\n",
    "marketing_campaign_sml = marketing_campaign[[\"Year_Birth\", \" Income \", \"Kidhome\", \"Teenhome\", \"Dt_Customer\", \"NumWebPurchases\", \"NumWebVisitsMonth\", \"Country\"]]\n",
    "marketing_campaign_sml = marketing_campaign_sml.head()\n",
    "marketing_campaign_sml[\"SatisfactionRating\"] = [8, 10, 5, 2, 6]\n",
    "marketing_campaign_sml['Lifestyle'] = [\"Foodie\", \"Outdoor Enthusiast\", \"Fisherman\", \"Musician\", \"Gamer\"]\n",
    "marketing_campaign_sml.columns = [\"Year_Birth\", \"Income\", \"Kid_at_home\", \"Teen_at_home\", \"Sign_up_date\", \"Web_purchases\", \"Monthly_web_visits\",  \"Country\", \"Satisfaction_rating\", \"Lifestyle\"]\n",
    "marketing_campaign_sml"
   ]
  },
  {
   "cell_type": "markdown",
   "metadata": {},
   "source": [
    "- Select the demographic attributes that describe the image:\n",
    "\n",
    "![millennials](./images/millennials.jpeg)"
   ]
  },
  {
   "cell_type": "markdown",
   "metadata": {},
   "source": [
    "**What would happen if things were different?** Learners view a dataset, graph, or image describe how changes would impact the demographic data values being produced or recorded (How mutable is it?)\n",
    "\n",
    "- Match the change with the impact to the demographic data in the table:\n",
    "\n",
    "Changes\n",
    "1. The person in row 2 has a birthday\n",
    "2. A customer moves from Candada to Germany\n",
    "3. A customer has a bad experience\n",
    "\n",
    "Impacts\n",
    "1. No change to the data in the table\n",
    "2. Change their country abbreviation\n",
    "3. A change to satisfaction rating, but this is not a demographic attribute\n",
    "\n",
    "- Select and rank the variables in the table from most to least mutable.\n"
   ]
  },
  {
   "cell_type": "code",
   "execution_count": 1,
   "metadata": {},
   "outputs": [
    {
     "data": {
      "text/html": [
       "<div>\n",
       "<style scoped>\n",
       "    .dataframe tbody tr th:only-of-type {\n",
       "        vertical-align: middle;\n",
       "    }\n",
       "\n",
       "    .dataframe tbody tr th {\n",
       "        vertical-align: top;\n",
       "    }\n",
       "\n",
       "    .dataframe thead th {\n",
       "        text-align: right;\n",
       "    }\n",
       "</style>\n",
       "<table border=\"1\" class=\"dataframe\">\n",
       "  <thead>\n",
       "    <tr style=\"text-align: right;\">\n",
       "      <th></th>\n",
       "      <th>Year_Birth</th>\n",
       "      <th>Income</th>\n",
       "      <th>Kid_at_home</th>\n",
       "      <th>Teen_at_home</th>\n",
       "      <th>Sign_up_date</th>\n",
       "      <th>Web_purchases</th>\n",
       "      <th>Monthly_web_visits</th>\n",
       "      <th>Country</th>\n",
       "      <th>Satisfaction_rating</th>\n",
       "      <th>Lifestyle</th>\n",
       "    </tr>\n",
       "  </thead>\n",
       "  <tbody>\n",
       "    <tr>\n",
       "      <th>0</th>\n",
       "      <td>1970</td>\n",
       "      <td>$84,835.00</td>\n",
       "      <td>0</td>\n",
       "      <td>0</td>\n",
       "      <td>6/16/14</td>\n",
       "      <td>4</td>\n",
       "      <td>1</td>\n",
       "      <td>SP</td>\n",
       "      <td>8</td>\n",
       "      <td>Foodie</td>\n",
       "    </tr>\n",
       "    <tr>\n",
       "      <th>1</th>\n",
       "      <td>1961</td>\n",
       "      <td>$57,091.00</td>\n",
       "      <td>0</td>\n",
       "      <td>0</td>\n",
       "      <td>6/15/14</td>\n",
       "      <td>7</td>\n",
       "      <td>5</td>\n",
       "      <td>CA</td>\n",
       "      <td>10</td>\n",
       "      <td>Outdoor Enthusiast</td>\n",
       "    </tr>\n",
       "    <tr>\n",
       "      <th>2</th>\n",
       "      <td>1958</td>\n",
       "      <td>$67,267.00</td>\n",
       "      <td>0</td>\n",
       "      <td>1</td>\n",
       "      <td>5/13/14</td>\n",
       "      <td>3</td>\n",
       "      <td>2</td>\n",
       "      <td>US</td>\n",
       "      <td>5</td>\n",
       "      <td>Fisherman</td>\n",
       "    </tr>\n",
       "    <tr>\n",
       "      <th>3</th>\n",
       "      <td>1967</td>\n",
       "      <td>$32,474.00</td>\n",
       "      <td>1</td>\n",
       "      <td>1</td>\n",
       "      <td>5/11/14</td>\n",
       "      <td>1</td>\n",
       "      <td>7</td>\n",
       "      <td>AUS</td>\n",
       "      <td>2</td>\n",
       "      <td>Musician</td>\n",
       "    </tr>\n",
       "    <tr>\n",
       "      <th>4</th>\n",
       "      <td>1989</td>\n",
       "      <td>$21,474.00</td>\n",
       "      <td>1</td>\n",
       "      <td>0</td>\n",
       "      <td>4/8/14</td>\n",
       "      <td>3</td>\n",
       "      <td>7</td>\n",
       "      <td>SP</td>\n",
       "      <td>6</td>\n",
       "      <td>Gamer</td>\n",
       "    </tr>\n",
       "  </tbody>\n",
       "</table>\n",
       "</div>"
      ],
      "text/plain": [
       "   Year_Birth       Income  Kid_at_home  Teen_at_home Sign_up_date  \\\n",
       "0        1970  $84,835.00             0             0      6/16/14   \n",
       "1        1961  $57,091.00             0             0      6/15/14   \n",
       "2        1958  $67,267.00             0             1      5/13/14   \n",
       "3        1967  $32,474.00             1             1      5/11/14   \n",
       "4        1989  $21,474.00             1             0       4/8/14   \n",
       "\n",
       "   Web_purchases  Monthly_web_visits Country  Satisfaction_rating  \\\n",
       "0              4                   1      SP                    8   \n",
       "1              7                   5      CA                   10   \n",
       "2              3                   2      US                    5   \n",
       "3              1                   7     AUS                    2   \n",
       "4              3                   7      SP                    6   \n",
       "\n",
       "            Lifestyle  \n",
       "0              Foodie  \n",
       "1  Outdoor Enthusiast  \n",
       "2           Fisherman  \n",
       "3            Musician  \n",
       "4               Gamer  "
      ]
     },
     "execution_count": 1,
     "metadata": {},
     "output_type": "execute_result"
    }
   ],
   "source": [
    "import pandas as pd\n",
    "marketing_campaign = pd.read_csv(\"datasets/marketing_campaign_data.csv\")\n",
    "marketing_campaign_sml = marketing_campaign[[\"Year_Birth\", \" Income \", \"Kidhome\", \"Teenhome\", \"Dt_Customer\", \"NumWebPurchases\", \"NumWebVisitsMonth\", \"Country\"]]\n",
    "marketing_campaign_sml = marketing_campaign_sml.head()\n",
    "marketing_campaign_sml[\"SatisfactionRating\"] = [8, 10, 5, 2, 6]\n",
    "marketing_campaign_sml['Lifestyle'] = [\"Foodie\", \"Outdoor Enthusiast\", \"Fisherman\", \"Musician\", \"Gamer\"]\n",
    "marketing_campaign_sml.columns = [\"Year_Birth\", \"Income\", \"Kid_at_home\", \"Teen_at_home\", \"Sign_up_date\", \"Web_purchases\", \"Monthly_web_visits\",  \"Country\", \"Satisfaction_rating\", \"Lifestyle\"]\n",
    "marketing_campaign_sml"
   ]
  },
  {
   "cell_type": "markdown",
   "metadata": {},
   "source": [
    "**What demographic data will be created?** Learners are provided with a data collection mechanism or scenario and describe the demographic data that will be generated.\n",
    "\n",
    "- Match the data collection device with the demographic data being tracked:\n",
    "\n",
    "1. Sensor on a coffee maker\n",
    "2. Traffic camera\n",
    "3. Customer Relationship Management(CRM) system\n",
    "4. Fitness wristwatch\n",
    "5. Political poll\n",
    "6. Ecommerce website"
   ]
  },
  {
   "cell_type": "markdown",
   "metadata": {},
   "source": [
    "### Wrap-up\n",
    "\n",
    "**3-2-1 Prompt**\n",
    "- What are 3 things you learned about demographic data?\n",
    "- What are 2 things you wonder about demographic data?\n",
    "- What is 1 takeaway you could apply to your work, community, or personal life?\n",
    "\n",
    "**Going further**\n",
    "\n",
    "- Create a table that lists all the demographic data you can find on a historical figure or celebrity you’re interested in knowing more about.\n",
    "- Create a table that lists all the population demographics of a country or other geographic region that you live in or are interested in learning more about\n"
   ]
  },
  {
   "cell_type": "markdown",
   "metadata": {},
   "source": [
    "## Concepts\n",
    "\n",
    "-\tDemographic data describes who someone is\n",
    "-\tDemographic data doesn’t change often\n",
    "-\tWhen using demographic data to describe a person, caution should be taken to not overgeneralize demographics to other attributes that describe a person such as their behaviors, attitude, or opinions\n",
    "-\tDemographic data is recorded and tracked when using everyday applications.\n",
    "-\tThe value of demographic data is its ability to store insights about (mostly) immutable characteristics of a person\n"
   ]
  },
  {
   "cell_type": "markdown",
   "metadata": {},
   "source": [
    "## Keywords\n",
    "\n",
    "Demographics, Firmographics, Population demographics, Mutable characteristic, Generalization, Form, Survey, Census, Poll"
   ]
  }
 ],
 "metadata": {
  "celltoolbar": "Tags",
  "kernelspec": {
   "display_name": "Python 3 (ipykernel)",
   "language": "python",
   "name": "python3"
  },
  "language_info": {
   "codemirror_mode": {
    "name": "ipython",
    "version": 3
   },
   "file_extension": ".py",
   "mimetype": "text/x-python",
   "name": "python",
   "nbconvert_exporter": "python",
   "pygments_lexer": "ipython3",
   "version": "3.10.1"
  }
 },
 "nbformat": 4,
 "nbformat_minor": 2
}
