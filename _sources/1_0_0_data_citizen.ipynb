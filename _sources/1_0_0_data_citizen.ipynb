{
 "cells": [
  {
   "cell_type": "markdown",
   "metadata": {},
   "source": [
    "# Data Citizen Overview\n",
    "In this level, you go from 0 to 1 in your data journey by growing your awareness of data influencing the world around you, navigating information in the form of metrics and visualizations."
   ]
  }
 ],
 "metadata": {
  "language_info": {
   "name": "python"
  },
  "orig_nbformat": 4
 },
 "nbformat": 4,
 "nbformat_minor": 2
}
