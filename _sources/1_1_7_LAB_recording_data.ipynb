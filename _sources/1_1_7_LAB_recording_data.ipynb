{
 "cells": [
  {
   "cell_type": "markdown",
   "id": "7131794c",
   "metadata": {},
   "source": [
    "# Lab: Recording data"
   ]
  },
  {
   "cell_type": "markdown",
   "id": "d46f54c8",
   "metadata": {},
   "source": [
    "## Learning outcomes\n",
    "\n",
    "In this lab, learners get hands-on experience recording and storing data, demonstrating the ability to:\n",
    "- Describe people, places, objects, or events using data attributes and values\n",
    "- Assign data values to variables corresponding to data attributes\n",
    "- Assign a list of data values to variables for multiple observations across multiple data attributes\n",
    "- Combine multiple attributes and observations into a data table or data frame\n",
    "- Name attributes and data tables appropriately"
   ]
  },
  {
   "cell_type": "markdown",
   "id": "e917e264",
   "metadata": {},
   "source": [
    "## Instructions"
   ]
  },
  {
   "cell_type": "markdown",
   "id": "afba51c3",
   "metadata": {},
   "source": [
    "**Step 1:** Select a person, place, object, or event."
   ]
  },
  {
   "cell_type": "markdown",
   "id": "bd8e6d6b",
   "metadata": {},
   "source": [
    "**Step 2:** Create a list of attributes to describe the data entity you chose."
   ]
  },
  {
   "cell_type": "markdown",
   "id": "8bbc020d",
   "metadata": {},
   "source": [
    "**Step 3:** Record data values for each attribute."
   ]
  },
  {
   "cell_type": "markdown",
   "id": "d5493862",
   "metadata": {},
   "source": [
    "**Step 4:** Store each data value in a variable with a name corresponding to the attribute."
   ]
  },
  {
   "cell_type": "markdown",
   "id": "0e20b3a3",
   "metadata": {},
   "source": [
    "**Step 5:** Repeat steps 1-4 with 1-3 more people, places, objects, or events (Note: The type of data entity should stay the same with the additions being data values or measurements for new observations of the same type of entity)"
   ]
  },
  {
   "cell_type": "markdown",
   "id": "c2666ef0",
   "metadata": {},
   "source": [
    "**Step 6:** Convert the variables you created in step 4 to lists so you can store values for all observations."
   ]
  },
  {
   "cell_type": "markdown",
   "id": "7c3c2a17",
   "metadata": {},
   "source": [
    "**Step 7:** Combine all variables into a named data table."
   ]
  },
  {
   "cell_type": "markdown",
   "id": "32b99f4e",
   "metadata": {},
   "source": [
    "## Concepts\n",
    "\n",
    "- Data values or measurements about an observation can be recorded and stored by assigning them to variables\n",
    "- Variables can consist of single data values, lists of data values, or entire tables\n",
    "- Multiple variables (attributes) and observations can be represented in a data table\n",
    "- Variable names should be unique with no spaces or special characters\n",
    "- Variable names can include, but not start with, numbers"
   ]
  },
  {
   "cell_type": "markdown",
   "id": "398b148c",
   "metadata": {},
   "source": [
    "## Keywords\n",
    "\n",
    "Variable, variable assignment, variable name, list, array, data table, data frame"
   ]
  },
  {
   "cell_type": "markdown",
   "id": "d2e3203a",
   "metadata": {},
   "source": [
    "## Technology\n",
    "\n",
    "There are many tools that can be used to record data that describes real-world things. We recommend using open-source and readily accessible tools such as Spreadsheet software (e.g., Excel, Google Sheets, etc.), Python, R, or SQL. If the organization you work for commonly uses one of these tools or another proprietary tool, learners may use the same tool in the lab. However, default learning resources in QuantHub will consist of material covering open-source technologies."
   ]
  },
  {
   "cell_type": "code",
   "execution_count": null,
   "id": "65264934",
   "metadata": {},
   "outputs": [],
   "source": []
  }
 ],
 "metadata": {
  "kernelspec": {
   "display_name": "Python 3 (ipykernel)",
   "language": "python",
   "name": "python3"
  },
  "language_info": {
   "codemirror_mode": {
    "name": "ipython",
    "version": 3
   },
   "file_extension": ".py",
   "mimetype": "text/x-python",
   "name": "python",
   "nbconvert_exporter": "python",
   "pygments_lexer": "ipython3",
   "version": "3.10.1"
  }
 },
 "nbformat": 4,
 "nbformat_minor": 5
}
