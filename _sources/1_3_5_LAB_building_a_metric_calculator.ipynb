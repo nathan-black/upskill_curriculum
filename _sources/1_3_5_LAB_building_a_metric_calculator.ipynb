{
 "cells": [
  {
   "cell_type": "markdown",
   "id": "7131794c",
   "metadata": {},
   "source": [
    "# Lab: Building a metric calculator"
   ]
  },
  {
   "cell_type": "markdown",
   "id": "d46f54c8",
   "metadata": {},
   "source": [
    "## Learning outcomes\n",
    "\n",
    "In this lab, learners get hands-on experience building a metric calculator, demonstrating the ability to:\n",
    "- Calculate and compare rates, ratios, percentages, fractions\n",
    "- Build mathematical formulas and functions\n",
    "- Create a simple applet for calculating metrics\n",
    "- Publish and share your applet\n"
   ]
  },
  {
   "cell_type": "markdown",
   "id": "e917e264",
   "metadata": {},
   "source": [
    "## Instructions"
   ]
  },
  {
   "cell_type": "markdown",
   "id": "afba51c3",
   "metadata": {},
   "source": [
    "**Step 1:** Build a formula to calculate speed given distance and miles travelled."
   ]
  },
  {
   "cell_type": "markdown",
   "id": "bd8e6d6b",
   "metadata": {},
   "source": [
    "**Step 2:** Build a formula to scale the ingregedient needed in a recipe using a ratio."
   ]
  },
  {
   "cell_type": "markdown",
   "id": "8bbc020d",
   "metadata": {},
   "source": [
    "**Step 3:** Build a formula to calculate percent change between two values."
   ]
  },
  {
   "cell_type": "markdown",
   "id": "d5493862",
   "metadata": {},
   "source": [
    "**Step 4:** Build a formula to convert a fraction to a percentage."
   ]
  },
  {
   "cell_type": "markdown",
   "id": "0e20b3a3",
   "metadata": {},
   "source": [
    "**Step 5:** Define functions for each of the formulas you built in step 1-4."
   ]
  },
  {
   "cell_type": "markdown",
   "id": "c2666ef0",
   "metadata": {},
   "source": [
    "**Step 6 (Optional):** Combine your functions into an applet and save it in a git repository"
   ]
  },
  {
   "cell_type": "markdown",
   "id": "7c3c2a17",
   "metadata": {},
   "source": [
    "**Step 7 (Optional):** Publish your applet and share it with your colleagues, friends, and family."
   ]
  },
  {
   "cell_type": "markdown",
   "id": "32b99f4e",
   "metadata": {},
   "source": [
    "## Concepts\n",
    "\n",
    "- It's easier to calculate metrics using a spreadsheet or programming language\n",
    "- A useful way to make your formulas applicable to many scenarios is to put them into functions\n",
    "- A set of formulas and functions in a spreadsheet or code script can be turned into an applet\n",
    "- You can use git to version your project and quickly publish the data tools and applets you create"
   ]
  },
  {
   "cell_type": "markdown",
   "id": "398b148c",
   "metadata": {},
   "source": [
    "## Keywords\n",
    "\n",
    "Formula, function, mathematical operators, applet, Streamlit, logical (Boolean) operators, git  "
   ]
  },
  {
   "cell_type": "markdown",
   "id": "d2e3203a",
   "metadata": {},
   "source": [
    "## Technology\n",
    "\n",
    "There are many tools that can be used to build form a metric calculators. We recommend using open-source and readily accessible tools such as Spreadsheet software (e.g., Excel, Google Sheets, etc.), Python, R, or SQL. If the organization you work for commonly uses one of these tools or another proprietary tool, learners may use the same tool in the lab. However, default learning resources in QuantHub will consist of material covering open-source technologies. For steps 6 and 7, we recommend using Excel or Google Sheets for spreadsheet applets, Streamlit for a Python applet, and Shiny for an R applet."
   ]
  },
  {
   "cell_type": "code",
   "execution_count": null,
   "id": "65264934",
   "metadata": {},
   "outputs": [],
   "source": []
  }
 ],
 "metadata": {
  "kernelspec": {
   "display_name": "Python 3 (ipykernel)",
   "language": "python",
   "name": "python3"
  },
  "language_info": {
   "codemirror_mode": {
    "name": "ipython",
    "version": 3
   },
   "file_extension": ".py",
   "mimetype": "text/x-python",
   "name": "python",
   "nbconvert_exporter": "python",
   "pygments_lexer": "ipython3",
   "version": "3.10.1"
  }
 },
 "nbformat": 4,
 "nbformat_minor": 5
}
