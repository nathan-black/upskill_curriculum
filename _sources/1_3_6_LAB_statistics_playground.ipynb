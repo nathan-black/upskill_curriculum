{
 "cells": [
  {
   "cell_type": "markdown",
   "id": "7131794c",
   "metadata": {},
   "source": [
    "# Lab: Statistics playground"
   ]
  },
  {
   "cell_type": "markdown",
   "id": "d46f54c8",
   "metadata": {},
   "source": [
    "## Learning outcomes\n",
    "\n",
    "In this lab, learners get hands-on experience with common statistical techniques, demonstrating the ability to:\n",
    "- Take random samples from a dataset\n",
    "- Build \"for\" loops\n",
    "- Calculate summary statistics\n",
    "- Anticipate the impact of outliers on summary statistics\n",
    "- Visualize the direction and strength of correlation between two numeric variables\n"
   ]
  },
  {
   "cell_type": "markdown",
   "id": "e917e264",
   "metadata": {},
   "source": [
    "## Instructions"
   ]
  },
  {
   "cell_type": "markdown",
   "id": "afba51c3",
   "metadata": {},
   "source": [
    "**Step 1:** Load a data set into your data tool of choice"
   ]
  },
  {
   "cell_type": "markdown",
   "id": "bd8e6d6b",
   "metadata": {},
   "source": [
    "**Step 2:** Take a random sample of size N from a numeric variable in your data set"
   ]
  },
  {
   "cell_type": "markdown",
   "id": "8bbc020d",
   "metadata": {},
   "source": [
    "**Step 3:** Calculate the mean, median, and standard deviation of the sample"
   ]
  },
  {
   "cell_type": "markdown",
   "id": "d5493862",
   "metadata": {},
   "source": [
    "**Step 4:** Build a \"for\" loop to repeat steps 2 and 3 10, 100, 1000, and 10000 times"
   ]
  },
  {
   "cell_type": "markdown",
   "id": "0e20b3a3",
   "metadata": {},
   "source": [
    "**Step 5:** Add values near and far from the median of the sample to find out how the mean and standard deviation are impacted"
   ]
  },
  {
   "cell_type": "markdown",
   "id": "c2666ef0",
   "metadata": {},
   "source": [
    "**Step 6:** Create a formula for a linear relationship between two sets of numerical values and visualize them in a scatterplot"
   ]
  },
  {
   "cell_type": "markdown",
   "id": "7c3c2a17",
   "metadata": {},
   "source": [
    "**Step 7:** Adjust the slope, intercept, and noise parameters of the linear function to see how the strength and direction of the correlation changes"
   ]
  },
  {
   "cell_type": "markdown",
   "id": "32b99f4e",
   "metadata": {},
   "source": [
    "## Concepts\n",
    "\n",
    "- Simulation is a CHANGE THIS LAB TO BE SIMPLER\n",
    "- Data sets in the form of CSVs can be loaded into the technology of choice\n",
    "- Data is used to answer real-world questions\n",
    "- It is important to understand what attributes in the data set mean before determining what questions the data set can answer\n",
    "- It is important to review observations in the data set to better understand the types of data values that were recorded and check that the data is not corrupted"
   ]
  },
  {
   "cell_type": "markdown",
   "id": "398b148c",
   "metadata": {},
   "source": [
    "## Keywords\n",
    "\n",
    "Open-source, import data, CSV, data dictionary, data code book, data catalog"
   ]
  },
  {
   "cell_type": "markdown",
   "id": "d2e3203a",
   "metadata": {},
   "source": [
    "## Technology\n",
    "\n",
    "There are many tools that can be used to import and view data sets. We recommend using open-source and readily accessible tools such as Spreadsheet software (e.g., Excel, Google Sheets, etc.), Python, R, or SQL. If the organization you work for commonly uses one of these tools or another proprietary tool, learners may use the same tool in the lab. However, default learning resources in QuantHub will consist of material covering open-source technologies."
   ]
  },
  {
   "cell_type": "code",
   "execution_count": null,
   "id": "65264934",
   "metadata": {},
   "outputs": [],
   "source": []
  }
 ],
 "metadata": {
  "kernelspec": {
   "display_name": "Python 3 (ipykernel)",
   "language": "python",
   "name": "python3"
  },
  "language_info": {
   "codemirror_mode": {
    "name": "ipython",
    "version": 3
   },
   "file_extension": ".py",
   "mimetype": "text/x-python",
   "name": "python",
   "nbconvert_exporter": "python",
   "pygments_lexer": "ipython3",
   "version": "3.10.1"
  }
 },
 "nbformat": 4,
 "nbformat_minor": 5
}
