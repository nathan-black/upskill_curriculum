{
 "cells": [
  {
   "cell_type": "markdown",
   "metadata": {},
   "source": [
    "# Identifying data sources\n",
    "Data is used to describe real-world objects and events. Observations are described by their attributes which store data values or specific measurements for each observation. Data values vary across observations. Data is created by processes and applications in professional, public, and personal domains. Data is tracked and recorded to support business operations, public services, and personal applications. The value of data goes beyond a supporting role to providing insights about the thing or event it describes."
   ]
  },
  {
   "cell_type": "markdown",
   "metadata": {},
   "source": [
    "## Learning outcomes\n",
    "After completing this lesson, learners will be able to...\n",
    "- Understand what data is\n",
    "- Demonstrate an awareness of where data comes from in professional, public, and personal domains\n",
    "- Identify how data is tracked and collected\n",
    "- Identify observations, attributes, and variables\n",
    "- Use data to describe people, places, objects, and actions"
   ]
  },
  {
   "cell_type": "markdown",
   "metadata": {},
   "source": [
    "## Learner-facing goals\n",
    "Let’s learn what data is, where it comes from and how you can use it to describe people, places, objects, and actions"
   ]
  },
  {
   "cell_type": "markdown",
   "metadata": {},
   "source": [
    "## Lesson plan"
   ]
  },
  {
   "cell_type": "markdown",
   "metadata": {},
   "source": [
    "### Warmup activities\n",
    "\n",
    "- When have you felt like a device (e.g., your smartphone, TV, or favorite website) were tracking you?\n",
    "- Read the quote and answer the questions that follow:\n",
    "    - What does this quote make you wonder?\n",
    "    - How does this quote make you feel?\n",
    "\n",
    "*There were 5 exabytes of information created between the dawn of civilization through 2003, but that much information is now created every two days.* Eric Schmidt, Executive Chairman at Google https://careerfoundry.com/en/blog/data-analytics/inspirational-data-quotes/\n",
    "\n",
    "\n",
    "- Create a data source concept map:\n",
    "    - List up to 5 places you’ve seen data in your work, community, or personal life\n",
    "    - Where do you think each of those data sets came from? What process or event produced the data?\n",
    "- Watch the [Target video](https://www.youtube.com/watch?v=XvSA-6BJkx4&feature=youtu.be)\n",
    "    - How do you think Target knew the daughter was pregnant before her father did?\n"
   ]
  },
  {
   "cell_type": "markdown",
   "metadata": {},
   "source": [
    "### Exercises"
   ]
  },
  {
   "cell_type": "markdown",
   "metadata": {},
   "source": [
    "**What data can you find?** Learners view an image, dataset, or graph and find data observations, attributes, and values."
   ]
  },
  {
   "cell_type": "markdown",
   "metadata": {},
   "source": [
    "- View the table and answer the questions that follow:\n",
    "    - What observations are described in the table?\n",
    "    - What attributes describe the observations in the table?\n",
    "    - What data value describes the satisfaction rating for EmpID 10084?"
   ]
  },
  {
   "cell_type": "code",
   "execution_count": 1,
   "metadata": {
    "tags": [
     "remove-input"
    ]
   },
   "outputs": [
    {
     "data": {
      "text/html": [
       "<div>\n",
       "<style scoped>\n",
       "    .dataframe tbody tr th:only-of-type {\n",
       "        vertical-align: middle;\n",
       "    }\n",
       "\n",
       "    .dataframe tbody tr th {\n",
       "        vertical-align: top;\n",
       "    }\n",
       "\n",
       "    .dataframe thead th {\n",
       "        text-align: right;\n",
       "    }\n",
       "</style>\n",
       "<table border=\"1\" class=\"dataframe\">\n",
       "  <thead>\n",
       "    <tr style=\"text-align: right;\">\n",
       "      <th></th>\n",
       "      <th>EmpID</th>\n",
       "      <th>EmpStatusID</th>\n",
       "      <th>Salary</th>\n",
       "      <th>Position</th>\n",
       "      <th>DOB</th>\n",
       "      <th>DateofHire</th>\n",
       "      <th>EmpSatisfaction</th>\n",
       "    </tr>\n",
       "  </thead>\n",
       "  <tbody>\n",
       "    <tr>\n",
       "      <th>0</th>\n",
       "      <td>10026</td>\n",
       "      <td>1</td>\n",
       "      <td>62506</td>\n",
       "      <td>Production Technician I</td>\n",
       "      <td>07/10/83</td>\n",
       "      <td>7/5/2011</td>\n",
       "      <td>5</td>\n",
       "    </tr>\n",
       "    <tr>\n",
       "      <th>1</th>\n",
       "      <td>10084</td>\n",
       "      <td>5</td>\n",
       "      <td>104437</td>\n",
       "      <td>Sr. DBA</td>\n",
       "      <td>05/05/75</td>\n",
       "      <td>3/30/2015</td>\n",
       "      <td>3</td>\n",
       "    </tr>\n",
       "    <tr>\n",
       "      <th>2</th>\n",
       "      <td>10196</td>\n",
       "      <td>5</td>\n",
       "      <td>64955</td>\n",
       "      <td>Production Technician II</td>\n",
       "      <td>09/19/88</td>\n",
       "      <td>7/5/2011</td>\n",
       "      <td>3</td>\n",
       "    </tr>\n",
       "    <tr>\n",
       "      <th>3</th>\n",
       "      <td>10088</td>\n",
       "      <td>1</td>\n",
       "      <td>64991</td>\n",
       "      <td>Production Technician I</td>\n",
       "      <td>09/27/88</td>\n",
       "      <td>1/7/2008</td>\n",
       "      <td>5</td>\n",
       "    </tr>\n",
       "    <tr>\n",
       "      <th>4</th>\n",
       "      <td>10069</td>\n",
       "      <td>5</td>\n",
       "      <td>50825</td>\n",
       "      <td>Production Technician I</td>\n",
       "      <td>09/08/89</td>\n",
       "      <td>7/11/2011</td>\n",
       "      <td>4</td>\n",
       "    </tr>\n",
       "  </tbody>\n",
       "</table>\n",
       "</div>"
      ],
      "text/plain": [
       "   EmpID  EmpStatusID  Salary                  Position       DOB DateofHire  \\\n",
       "0  10026            1   62506   Production Technician I  07/10/83   7/5/2011   \n",
       "1  10084            5  104437                   Sr. DBA  05/05/75  3/30/2015   \n",
       "2  10196            5   64955  Production Technician II  09/19/88   7/5/2011   \n",
       "3  10088            1   64991   Production Technician I  09/27/88   1/7/2008   \n",
       "4  10069            5   50825   Production Technician I  09/08/89  7/11/2011   \n",
       "\n",
       "   EmpSatisfaction  \n",
       "0                5  \n",
       "1                3  \n",
       "2                3  \n",
       "3                5  \n",
       "4                4  "
      ]
     },
     "execution_count": 1,
     "metadata": {},
     "output_type": "execute_result"
    }
   ],
   "source": [
    "import pandas as pd\n",
    "hr = pd.read_csv(\"datasets/HRDataset.csv\")\n",
    "to_keep = [\"EmpID\", \"EmpStatusID\", \"Salary\", \"Position\", \"DOB\", \"DateofHire\", \"EmpSatisfaction\"]\n",
    "hr = hr[to_keep]\n",
    "hr.head(5)"
   ]
  },
  {
   "cell_type": "markdown",
   "metadata": {},
   "source": [
    "- Fill in the missing data attributes and values in the table to describe the image:"
   ]
  },
  {
   "cell_type": "markdown",
   "metadata": {},
   "source": [
    "![music](./images/listening_to_music.jpeg)"
   ]
  },
  {
   "cell_type": "markdown",
   "metadata": {},
   "source": [
    "![musictable](./images/listening_to_music_table.png)"
   ]
  },
  {
   "cell_type": "markdown",
   "metadata": {},
   "source": [
    "- Create a table with attributes, observations, and data values that describe the graph:\n",
    "\n",
    "![jobgrowth](./images/job_growth_stacked_bar_chart.png)\n",
    "\n"
   ]
  },
  {
   "cell_type": "markdown",
   "metadata": {},
   "source": [
    "![blanktable](./images/blank_table.png)"
   ]
  },
  {
   "cell_type": "markdown",
   "metadata": {},
   "source": [
    "**Where is this type of data found?** Learners view a dataset or graph and categorize the domain as professional, public, personal, or undefined"
   ]
  },
  {
   "cell_type": "markdown",
   "metadata": {},
   "source": [
    "- View the data table and answer the questions that follow:\n",
    "    - What domain does the data displayed in the table belong to?"
   ]
  },
  {
   "cell_type": "code",
   "execution_count": 12,
   "metadata": {
    "tags": [
     "remove-input"
    ]
   },
   "outputs": [
    {
     "data": {
      "text/html": [
       "<div>\n",
       "<style scoped>\n",
       "    .dataframe tbody tr th:only-of-type {\n",
       "        vertical-align: middle;\n",
       "    }\n",
       "\n",
       "    .dataframe tbody tr th {\n",
       "        vertical-align: top;\n",
       "    }\n",
       "\n",
       "    .dataframe thead th {\n",
       "        text-align: right;\n",
       "    }\n",
       "</style>\n",
       "<table border=\"1\" class=\"dataframe\">\n",
       "  <thead>\n",
       "    <tr style=\"text-align: right;\">\n",
       "      <th></th>\n",
       "      <th>event_id</th>\n",
       "      <th>total_running_time</th>\n",
       "      <th>total_distance</th>\n",
       "      <th>rest_time</th>\n",
       "      <th>avg_heart_rate</th>\n",
       "      <th>avg_speed</th>\n",
       "      <th>avg_altitude</th>\n",
       "    </tr>\n",
       "  </thead>\n",
       "  <tbody>\n",
       "    <tr>\n",
       "      <th>0</th>\n",
       "      <td>1</td>\n",
       "      <td>153.0</td>\n",
       "      <td>4.8</td>\n",
       "      <td>0.0</td>\n",
       "      <td>145.8</td>\n",
       "      <td>13.6</td>\n",
       "      <td>178.7</td>\n",
       "    </tr>\n",
       "    <tr>\n",
       "      <th>1</th>\n",
       "      <td>1</td>\n",
       "      <td>1318.0</td>\n",
       "      <td>4.8</td>\n",
       "      <td>50.0</td>\n",
       "      <td>145.8</td>\n",
       "      <td>13.6</td>\n",
       "      <td>178.7</td>\n",
       "    </tr>\n",
       "    <tr>\n",
       "      <th>2</th>\n",
       "      <td>2</td>\n",
       "      <td>152.0</td>\n",
       "      <td>6.0</td>\n",
       "      <td>0.0</td>\n",
       "      <td>155.4</td>\n",
       "      <td>13.0</td>\n",
       "      <td>192.0</td>\n",
       "    </tr>\n",
       "    <tr>\n",
       "      <th>3</th>\n",
       "      <td>2</td>\n",
       "      <td>1643.0</td>\n",
       "      <td>6.0</td>\n",
       "      <td>12.0</td>\n",
       "      <td>155.4</td>\n",
       "      <td>13.0</td>\n",
       "      <td>192.0</td>\n",
       "    </tr>\n",
       "    <tr>\n",
       "      <th>4</th>\n",
       "      <td>3</td>\n",
       "      <td>425.0</td>\n",
       "      <td>14.5</td>\n",
       "      <td>0.0</td>\n",
       "      <td>156.5</td>\n",
       "      <td>13.4</td>\n",
       "      <td>178.9</td>\n",
       "    </tr>\n",
       "  </tbody>\n",
       "</table>\n",
       "</div>"
      ],
      "text/plain": [
       "   event_id  total_running_time  total_distance  rest_time  avg_heart_rate  \\\n",
       "0         1               153.0             4.8        0.0           145.8   \n",
       "1         1              1318.0             4.8       50.0           145.8   \n",
       "2         2               152.0             6.0        0.0           155.4   \n",
       "3         2              1643.0             6.0       12.0           155.4   \n",
       "4         3               425.0            14.5        0.0           156.5   \n",
       "\n",
       "   avg_speed  avg_altitude  \n",
       "0       13.6         178.7  \n",
       "1       13.6         178.7  \n",
       "2       13.0         192.0  \n",
       "3       13.0         192.0  \n",
       "4       13.4         178.9  "
      ]
     },
     "execution_count": 12,
     "metadata": {},
     "output_type": "execute_result"
    }
   ],
   "source": [
    "import pandas as pd\n",
    "run = pd.read_csv(\"datasets/running_metrics.csv\")\n",
    "to_keep = ['event_id', 'total_running_time', 'total_dist', 'rest_time', 'avg_hr', 'avg_speed', 'avg_alt']\n",
    "run = run[to_keep]\n",
    "run.columns = ['event_id', 'total_running_time', 'total_distance', 'rest_time', 'avg_heart_rate', 'avg_speed', 'avg_altitude']\n",
    "run['total_running_time'] = round(run['total_running_time'], 1)\n",
    "run['total_distance'] = round(run['total_distance'], 1)\n",
    "run['rest_time'] = round(run['rest_time'], 1)\n",
    "run['avg_heart_rate'] = round(run['avg_heart_rate'], 1)\n",
    "run['avg_speed'] = round(run['avg_speed'], 1)\n",
    "run['avg_altitude'] = round(run['avg_altitude'], 1)\n",
    "run.head()"
   ]
  },
  {
   "cell_type": "markdown",
   "metadata": {},
   "source": [
    "- View the graph and answer the questions that follow:\n",
    "    - What domain does the data displayed in the chart belong to?"
   ]
  },
  {
   "cell_type": "markdown",
   "metadata": {},
   "source": [
    "![seattle](./images/SeattleHomelessnessBarChart.png)"
   ]
  },
  {
   "cell_type": "markdown",
   "metadata": {},
   "source": [
    "- View the data table and answer the questions that follow:\n",
    "    - What domain does the data in the table belong to?"
   ]
  },
  {
   "cell_type": "code",
   "execution_count": 15,
   "metadata": {
    "tags": [
     "remove-input"
    ]
   },
   "outputs": [
    {
     "data": {
      "text/html": [
       "<div>\n",
       "<style scoped>\n",
       "    .dataframe tbody tr th:only-of-type {\n",
       "        vertical-align: middle;\n",
       "    }\n",
       "\n",
       "    .dataframe tbody tr th {\n",
       "        vertical-align: top;\n",
       "    }\n",
       "\n",
       "    .dataframe thead th {\n",
       "        text-align: right;\n",
       "    }\n",
       "</style>\n",
       "<table border=\"1\" class=\"dataframe\">\n",
       "  <thead>\n",
       "    <tr style=\"text-align: right;\">\n",
       "      <th></th>\n",
       "      <th>0</th>\n",
       "      <th>1</th>\n",
       "      <th>2</th>\n",
       "      <th>3</th>\n",
       "      <th>4</th>\n",
       "    </tr>\n",
       "  </thead>\n",
       "  <tbody>\n",
       "    <tr>\n",
       "      <th>Name</th>\n",
       "      <td>Wii Sports</td>\n",
       "      <td>Super Mario Bros.</td>\n",
       "      <td>Mario Kart Wii</td>\n",
       "      <td>Wii Sports Resort</td>\n",
       "      <td>Pokemon Red/Pokemon Blue</td>\n",
       "    </tr>\n",
       "    <tr>\n",
       "      <th>Platform</th>\n",
       "      <td>Wii</td>\n",
       "      <td>NES</td>\n",
       "      <td>Wii</td>\n",
       "      <td>Wii</td>\n",
       "      <td>GB</td>\n",
       "    </tr>\n",
       "    <tr>\n",
       "      <th>Year_of_Release</th>\n",
       "      <td>2006.0</td>\n",
       "      <td>1985.0</td>\n",
       "      <td>2008.0</td>\n",
       "      <td>2009.0</td>\n",
       "      <td>1996.0</td>\n",
       "    </tr>\n",
       "    <tr>\n",
       "      <th>Genre</th>\n",
       "      <td>Sports</td>\n",
       "      <td>Platform</td>\n",
       "      <td>Racing</td>\n",
       "      <td>Sports</td>\n",
       "      <td>Role-Playing</td>\n",
       "    </tr>\n",
       "    <tr>\n",
       "      <th>Publisher</th>\n",
       "      <td>Nintendo</td>\n",
       "      <td>Nintendo</td>\n",
       "      <td>Nintendo</td>\n",
       "      <td>Nintendo</td>\n",
       "      <td>Nintendo</td>\n",
       "    </tr>\n",
       "    <tr>\n",
       "      <th>NA_Sales</th>\n",
       "      <td>41.36</td>\n",
       "      <td>29.08</td>\n",
       "      <td>15.68</td>\n",
       "      <td>15.61</td>\n",
       "      <td>11.27</td>\n",
       "    </tr>\n",
       "    <tr>\n",
       "      <th>EU_Sales</th>\n",
       "      <td>28.96</td>\n",
       "      <td>3.58</td>\n",
       "      <td>12.76</td>\n",
       "      <td>10.93</td>\n",
       "      <td>8.89</td>\n",
       "    </tr>\n",
       "    <tr>\n",
       "      <th>JP_Sales</th>\n",
       "      <td>3.77</td>\n",
       "      <td>6.81</td>\n",
       "      <td>3.79</td>\n",
       "      <td>3.28</td>\n",
       "      <td>10.22</td>\n",
       "    </tr>\n",
       "    <tr>\n",
       "      <th>Other_Sales</th>\n",
       "      <td>8.45</td>\n",
       "      <td>0.77</td>\n",
       "      <td>3.29</td>\n",
       "      <td>2.95</td>\n",
       "      <td>1.0</td>\n",
       "    </tr>\n",
       "    <tr>\n",
       "      <th>Global_Sales</th>\n",
       "      <td>82.53</td>\n",
       "      <td>40.24</td>\n",
       "      <td>35.52</td>\n",
       "      <td>32.77</td>\n",
       "      <td>31.37</td>\n",
       "    </tr>\n",
       "    <tr>\n",
       "      <th>Critic_Score</th>\n",
       "      <td>76.0</td>\n",
       "      <td>NaN</td>\n",
       "      <td>82.0</td>\n",
       "      <td>80.0</td>\n",
       "      <td>NaN</td>\n",
       "    </tr>\n",
       "    <tr>\n",
       "      <th>Critic_Count</th>\n",
       "      <td>51.0</td>\n",
       "      <td>NaN</td>\n",
       "      <td>73.0</td>\n",
       "      <td>73.0</td>\n",
       "      <td>NaN</td>\n",
       "    </tr>\n",
       "    <tr>\n",
       "      <th>User_Score</th>\n",
       "      <td>8</td>\n",
       "      <td>NaN</td>\n",
       "      <td>8.3</td>\n",
       "      <td>8</td>\n",
       "      <td>NaN</td>\n",
       "    </tr>\n",
       "    <tr>\n",
       "      <th>User_Count</th>\n",
       "      <td>322.0</td>\n",
       "      <td>NaN</td>\n",
       "      <td>709.0</td>\n",
       "      <td>192.0</td>\n",
       "      <td>NaN</td>\n",
       "    </tr>\n",
       "    <tr>\n",
       "      <th>Developer</th>\n",
       "      <td>Nintendo</td>\n",
       "      <td>NaN</td>\n",
       "      <td>Nintendo</td>\n",
       "      <td>Nintendo</td>\n",
       "      <td>NaN</td>\n",
       "    </tr>\n",
       "    <tr>\n",
       "      <th>Rating</th>\n",
       "      <td>E</td>\n",
       "      <td>NaN</td>\n",
       "      <td>E</td>\n",
       "      <td>E</td>\n",
       "      <td>NaN</td>\n",
       "    </tr>\n",
       "  </tbody>\n",
       "</table>\n",
       "</div>"
      ],
      "text/plain": [
       "                          0                  1               2  \\\n",
       "Name             Wii Sports  Super Mario Bros.  Mario Kart Wii   \n",
       "Platform                Wii                NES             Wii   \n",
       "Year_of_Release      2006.0             1985.0          2008.0   \n",
       "Genre                Sports           Platform          Racing   \n",
       "Publisher          Nintendo           Nintendo        Nintendo   \n",
       "NA_Sales              41.36              29.08           15.68   \n",
       "EU_Sales              28.96               3.58           12.76   \n",
       "JP_Sales               3.77               6.81            3.79   \n",
       "Other_Sales            8.45               0.77            3.29   \n",
       "Global_Sales          82.53              40.24           35.52   \n",
       "Critic_Score           76.0                NaN            82.0   \n",
       "Critic_Count           51.0                NaN            73.0   \n",
       "User_Score                8                NaN             8.3   \n",
       "User_Count            322.0                NaN           709.0   \n",
       "Developer          Nintendo                NaN        Nintendo   \n",
       "Rating                    E                NaN               E   \n",
       "\n",
       "                                 3                         4  \n",
       "Name             Wii Sports Resort  Pokemon Red/Pokemon Blue  \n",
       "Platform                       Wii                        GB  \n",
       "Year_of_Release             2009.0                    1996.0  \n",
       "Genre                       Sports              Role-Playing  \n",
       "Publisher                 Nintendo                  Nintendo  \n",
       "NA_Sales                     15.61                     11.27  \n",
       "EU_Sales                     10.93                      8.89  \n",
       "JP_Sales                      3.28                     10.22  \n",
       "Other_Sales                   2.95                       1.0  \n",
       "Global_Sales                 32.77                     31.37  \n",
       "Critic_Score                  80.0                       NaN  \n",
       "Critic_Count                  73.0                       NaN  \n",
       "User_Score                       8                       NaN  \n",
       "User_Count                   192.0                       NaN  \n",
       "Developer                 Nintendo                       NaN  \n",
       "Rating                           E                       NaN  "
      ]
     },
     "execution_count": 15,
     "metadata": {},
     "output_type": "execute_result"
    }
   ],
   "source": [
    "import pandas as pd\n",
    "game = pd.read_csv(\"datasets/video_games_sales_2016.csv\")\n",
    "game.head().T"
   ]
  },
  {
   "cell_type": "markdown",
   "metadata": {},
   "source": [
    "Match the data to its domain - TODO"
   ]
  },
  {
   "cell_type": "markdown",
   "metadata": {},
   "source": [
    "**What would happen if things were different?** Learners view a dataset, graph, or image describe how changes would impact the data values being produced or recorded."
   ]
  },
  {
   "cell_type": "markdown",
   "metadata": {},
   "source": [
    "- Match the change with the impact to the data in the table:\n",
    "\n",
    "Changes\n",
    "1. Salary increases for employee 10069\n",
    "2. Hire a new employee\n",
    "3. Track weekly hours\n",
    "\n",
    "Impacts\n",
    "1. Add an observation to the table\n",
    "2. Change a data value in the table\n",
    "3. Add an attribute to the table\n",
    "\n",
    "\n",
    "- Which observations have Salary values that vary from employee 100196?\n",
    "- Which employees have the same date of hire?"
   ]
  },
  {
   "cell_type": "code",
   "execution_count": 16,
   "metadata": {
    "tags": [
     "remove-input"
    ]
   },
   "outputs": [
    {
     "data": {
      "text/html": [
       "<div>\n",
       "<style scoped>\n",
       "    .dataframe tbody tr th:only-of-type {\n",
       "        vertical-align: middle;\n",
       "    }\n",
       "\n",
       "    .dataframe tbody tr th {\n",
       "        vertical-align: top;\n",
       "    }\n",
       "\n",
       "    .dataframe thead th {\n",
       "        text-align: right;\n",
       "    }\n",
       "</style>\n",
       "<table border=\"1\" class=\"dataframe\">\n",
       "  <thead>\n",
       "    <tr style=\"text-align: right;\">\n",
       "      <th></th>\n",
       "      <th>EmpID</th>\n",
       "      <th>EmpStatusID</th>\n",
       "      <th>Salary</th>\n",
       "      <th>Position</th>\n",
       "      <th>DOB</th>\n",
       "      <th>DateofHire</th>\n",
       "      <th>EmpSatisfaction</th>\n",
       "    </tr>\n",
       "  </thead>\n",
       "  <tbody>\n",
       "    <tr>\n",
       "      <th>0</th>\n",
       "      <td>10026</td>\n",
       "      <td>1</td>\n",
       "      <td>62506</td>\n",
       "      <td>Production Technician I</td>\n",
       "      <td>07/10/83</td>\n",
       "      <td>7/5/2011</td>\n",
       "      <td>5</td>\n",
       "    </tr>\n",
       "    <tr>\n",
       "      <th>1</th>\n",
       "      <td>10084</td>\n",
       "      <td>5</td>\n",
       "      <td>104437</td>\n",
       "      <td>Sr. DBA</td>\n",
       "      <td>05/05/75</td>\n",
       "      <td>3/30/2015</td>\n",
       "      <td>3</td>\n",
       "    </tr>\n",
       "    <tr>\n",
       "      <th>2</th>\n",
       "      <td>10196</td>\n",
       "      <td>5</td>\n",
       "      <td>64955</td>\n",
       "      <td>Production Technician II</td>\n",
       "      <td>09/19/88</td>\n",
       "      <td>7/5/2011</td>\n",
       "      <td>3</td>\n",
       "    </tr>\n",
       "    <tr>\n",
       "      <th>3</th>\n",
       "      <td>10088</td>\n",
       "      <td>1</td>\n",
       "      <td>64991</td>\n",
       "      <td>Production Technician I</td>\n",
       "      <td>09/27/88</td>\n",
       "      <td>1/7/2008</td>\n",
       "      <td>5</td>\n",
       "    </tr>\n",
       "    <tr>\n",
       "      <th>4</th>\n",
       "      <td>10069</td>\n",
       "      <td>5</td>\n",
       "      <td>50825</td>\n",
       "      <td>Production Technician I</td>\n",
       "      <td>09/08/89</td>\n",
       "      <td>7/11/2011</td>\n",
       "      <td>4</td>\n",
       "    </tr>\n",
       "  </tbody>\n",
       "</table>\n",
       "</div>"
      ],
      "text/plain": [
       "   EmpID  EmpStatusID  Salary                  Position       DOB DateofHire  \\\n",
       "0  10026            1   62506   Production Technician I  07/10/83   7/5/2011   \n",
       "1  10084            5  104437                   Sr. DBA  05/05/75  3/30/2015   \n",
       "2  10196            5   64955  Production Technician II  09/19/88   7/5/2011   \n",
       "3  10088            1   64991   Production Technician I  09/27/88   1/7/2008   \n",
       "4  10069            5   50825   Production Technician I  09/08/89  7/11/2011   \n",
       "\n",
       "   EmpSatisfaction  \n",
       "0                5  \n",
       "1                3  \n",
       "2                3  \n",
       "3                5  \n",
       "4                4  "
      ]
     },
     "execution_count": 16,
     "metadata": {},
     "output_type": "execute_result"
    }
   ],
   "source": [
    "import pandas as pd\n",
    "hr = pd.read_csv(\"datasets/HRDataset.csv\")\n",
    "to_keep = [\"EmpID\", \"EmpStatusID\", \"Salary\", \"Position\", \"DOB\", \"DateofHire\", \"EmpSatisfaction\"]\n",
    "hr = hr[to_keep]\n",
    "hr.head(5)"
   ]
  },
  {
   "cell_type": "markdown",
   "metadata": {},
   "source": [
    "**What data will be created?** Learners are provided with a data collection mechanism or scenario and describe the data that will be generated."
   ]
  },
  {
   "cell_type": "markdown",
   "metadata": {},
   "source": [
    "- Match the data collection device with the data being tracked:\n",
    "\n",
    "1. Sensor on a coffee maker\n",
    "2. Traffic camera\n",
    "3. Customer Relationship Management(CRM) system\n",
    "4. Fitness wristwatch\n",
    "5. Political poll\n",
    "6. Ecommerce website"
   ]
  },
  {
   "cell_type": "markdown",
   "metadata": {},
   "source": [
    "### Wrap-up\n",
    "\n",
    "**3-2-1 Prompt**\n",
    "- What are 3 things you learned about identifying data sources?\n",
    "- What are 2 things you wonder about?\n",
    "- What is 1 takeaway you could apply to your work, community, or personal life?\n",
    "\n",
    "**Going further**\n",
    "\n",
    "Create a data table that describes something you're interested in. Feel free to use the ideas below or come up with your own:\n",
    "- Favorite songs\n",
    "- The weather\n",
    "- A recent shopping trip"
   ]
  },
  {
   "cell_type": "markdown",
   "metadata": {},
   "source": [
    "## Concepts\n",
    "-\tPeople, things, and actions can be described using data\n",
    "-\tMore than just numbers, data includes text, images, locations, sounds, and time\n",
    "-\tObservations are objects or events whose characteristics can be described by attributes or measurements.\n",
    "-\tSpecific measurements are recorded as data values\n",
    "-\tData can vary from one observation to the next\n",
    "-\tData is used to describe objects and things that happen in professional, public, and personal domains\n",
    "-\tData is more than an abstract idea; it records real-life things or events. When you come across data, it is important to remember that it is typically describing things that exist or things that occurred in the real world\n",
    "-\tData values vary across individual observations. A difference in a measurement describing an object or event will result in a difference in the data value that is recorded\n",
    "-\tData is recorded and tracked by everyday devices.\n",
    "-\tData is often generated as a byproduct of business operations, public services, or personal applications, but the value of data is its ability to store insights about the processes that created it"
   ]
  },
  {
   "cell_type": "markdown",
   "metadata": {},
   "source": [
    "## Keywords\n",
    "\n",
    "Data, Observation, Attribute, Data value, Variable, Internet of Things (IoT), Quantified self, Open data, Data trail, Digital footprint"
   ]
  },
  {
   "cell_type": "code",
   "execution_count": null,
   "metadata": {},
   "outputs": [],
   "source": []
  }
 ],
 "metadata": {
  "celltoolbar": "Tags",
  "interpreter": {
   "hash": "28d11705eeba78cc3f9a529c9c5c8291daa1d26884be15cb7f5a6b4a7f91c7e0"
  },
  "kernelspec": {
   "display_name": "Python 3 (ipykernel)",
   "language": "python",
   "name": "python3"
  },
  "language_info": {
   "codemirror_mode": {
    "name": "ipython",
    "version": 3
   },
   "file_extension": ".py",
   "mimetype": "text/x-python",
   "name": "python",
   "nbconvert_exporter": "python",
   "pygments_lexer": "ipython3",
   "version": "3.10.1"
  }
 },
 "nbformat": 4,
 "nbformat_minor": 2
}
