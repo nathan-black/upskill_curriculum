{
 "cells": [
  {
   "cell_type": "markdown",
   "metadata": {},
   "source": [
    "# Welcome to QuantHub Upskill Data Curriculum\n",
    "This is a comprehensive book detailing the data skill content covered in QuantHub Upskill"
   ]
  },
  {
   "cell_type": "markdown",
   "metadata": {},
   "source": [
    ":::{note}\n",
    "This book is designed to show you what learning content is covered in QuantHub Upskill. We recommend using the QuantHub Upskill web app or Microsoft Teams bot to learn and practice the data skills covered in this book.\n",
    ":::"
   ]
  }
 ],
 "metadata": {
  "language_info": {
   "codemirror_mode": {
    "name": "ipython",
    "version": 3
   },
   "file_extension": ".py",
   "mimetype": "text/x-python",
   "name": "python",
   "nbconvert_exporter": "python",
   "pygments_lexer": "ipython3",
   "version": "3.10.1"
  }
 },
 "nbformat": 4,
 "nbformat_minor": 2
}