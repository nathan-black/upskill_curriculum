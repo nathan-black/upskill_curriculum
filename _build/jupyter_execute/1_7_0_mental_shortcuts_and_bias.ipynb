{
 "cells": [
  {
   "attachments": {},
   "cell_type": "markdown",
   "metadata": {},
   "source": [
    "# Mental Shortcuts and Bias\n",
    "\n",
    "Now you have some great frameworks and tools that are sure to improve the decisions you make every day. Unfortunately, there’s a dark side to data decision-making. As humans, we tend to take shortcuts to manage the myriad decisions we make each day. Those shortcuts are helpful for making a lot of decisions. The problem comes in when we continue to use shortcuts for decisions where shortcuts lead us astray. That’s when we stop calling them “shortcuts” and start calling them “cognitive biases”. The good news is that you’ll soon master the skills focused on identifying and addressing those biases."
   ]
  },
  {
   "cell_type": "code",
   "execution_count": null,
   "metadata": {},
   "outputs": [],
   "source": []
  },
  {
   "cell_type": "code",
   "execution_count": null,
   "metadata": {},
   "outputs": [],
   "source": []
  }
 ],
 "metadata": {
  "kernelspec": {
   "display_name": "Python 3 (ipykernel)",
   "language": "python",
   "name": "python3"
  },
  "language_info": {
   "codemirror_mode": {
    "name": "ipython",
    "version": 3
   },
   "file_extension": ".py",
   "mimetype": "text/x-python",
   "name": "python",
   "nbconvert_exporter": "python",
   "pygments_lexer": "ipython3",
   "version": "3.10.1"
  }
 },
 "nbformat": 4,
 "nbformat_minor": 2
}