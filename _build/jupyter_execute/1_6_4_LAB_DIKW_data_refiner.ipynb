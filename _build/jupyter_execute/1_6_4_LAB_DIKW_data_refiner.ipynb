{
 "cells": [
  {
   "cell_type": "markdown",
   "id": "7131794c",
   "metadata": {},
   "source": [
    "# Lab: DIKW data refiner"
   ]
  },
  {
   "cell_type": "markdown",
   "id": "d46f54c8",
   "metadata": {},
   "source": [
    "## Learning outcomes\n",
    "\n",
    "In this lab, learners get hands-on experience downloading and importing data, demonstrating the ability to:\n",
    "- Find professional, public, and personal data sets\n",
    "- Download CSVs\n",
    "- Load CSVs into a data tool\n",
    "- Identfify questions that could be answered using the data set\n"
   ]
  },
  {
   "cell_type": "markdown",
   "id": "e917e264",
   "metadata": {},
   "source": [
    "## Instructions"
   ]
  },
  {
   "cell_type": "markdown",
   "id": "afba51c3",
   "metadata": {},
   "source": [
    "**Step 1:** Select a professional, public, or personal area of interest."
   ]
  },
  {
   "cell_type": "markdown",
   "id": "bd8e6d6b",
   "metadata": {},
   "source": [
    "**Step 2:** Google open data sets related to the area that you chose. If you are looking for data related to your work, you are encouraged to ask a data analyst or someone from your IT department to help you access and download the data set."
   ]
  },
  {
   "cell_type": "markdown",
   "id": "8bbc020d",
   "metadata": {},
   "source": [
    "**Step 3:** Download the data as a CSV."
   ]
  },
  {
   "cell_type": "markdown",
   "id": "d5493862",
   "metadata": {},
   "source": [
    "**Step 4:** Load the data into a data table in spreadsheet software, a programming language, or other data tool."
   ]
  },
  {
   "cell_type": "markdown",
   "id": "0e20b3a3",
   "metadata": {},
   "source": [
    "**Step 5:** Take a look at the attributes (usually in the top row of the data table) and try and understand what each one means."
   ]
  },
  {
   "cell_type": "markdown",
   "id": "c2666ef0",
   "metadata": {},
   "source": [
    "**Step 6:** Review several observations across all attributes to get an idea of what data values are stored in the data set."
   ]
  },
  {
   "cell_type": "markdown",
   "id": "7c3c2a17",
   "metadata": {},
   "source": [
    "**Step 7:** Make a list of at least 3 questions that could be answered with the data set. Take it a step further by adding at least 3 questions that cannot be answered with the data set."
   ]
  },
  {
   "cell_type": "markdown",
   "id": "32b99f4e",
   "metadata": {},
   "source": [
    "## Concepts\n",
    "\n",
    "- It is easy to find and download data sets to answer statistical questions\n",
    "- Data sets in the form of CSVs can be loaded into the technology of choice\n",
    "- Data is used to answer real-world questions\n",
    "- It is important to understand what attributes in the data set mean before determining what questions the data set can answer\n",
    "- It is important to review observations in the data set to better understand the types of data values that were recorded and check that the data is not corrupted"
   ]
  },
  {
   "cell_type": "markdown",
   "id": "398b148c",
   "metadata": {},
   "source": [
    "## Keywords\n",
    "\n",
    "Open-source, import data, CSV, data dictionary, data code book, data catalog"
   ]
  },
  {
   "cell_type": "markdown",
   "id": "d2e3203a",
   "metadata": {},
   "source": [
    "## Technology\n",
    "\n",
    "There are many tools that can be used to import and view data sets. We recommend using open-source and readily accessible tools such as Spreadsheet software (e.g., Excel, Google Sheets, etc.), Python, R, or SQL. If the organization you work for commonly uses one of these tools or another proprietary tool, learners may use the same tool in the lab. However, default learning resources in QuantHub will consist of material covering open-source technologies."
   ]
  },
  {
   "cell_type": "code",
   "execution_count": null,
   "id": "65264934",
   "metadata": {},
   "outputs": [],
   "source": []
  }
 ],
 "metadata": {
  "kernelspec": {
   "display_name": "Python 3 (ipykernel)",
   "language": "python",
   "name": "python3"
  },
  "language_info": {
   "codemirror_mode": {
    "name": "ipython",
    "version": 3
   },
   "file_extension": ".py",
   "mimetype": "text/x-python",
   "name": "python",
   "nbconvert_exporter": "python",
   "pygments_lexer": "ipython3",
   "version": "3.10.1"
  }
 },
 "nbformat": 4,
 "nbformat_minor": 5
}